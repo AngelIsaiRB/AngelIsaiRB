{
  "nbformat": 4,
  "nbformat_minor": 0,
  "metadata": {
    "colab": {
      "name": "tema 1  Angel Isai Ramirez Bazan .ipynb",
      "provenance": [],
      "collapsed_sections": [],
      "toc_visible": true,
      "include_colab_link": true
    },
    "kernelspec": {
      "name": "python3",
      "display_name": "Python 3"
    }
  },
  "cells": [
    {
      "cell_type": "markdown",
      "metadata": {
        "id": "view-in-github",
        "colab_type": "text"
      },
      "source": [
        "<a href=\"https://colab.research.google.com/github/AngelIsaiRB/AngelIsaiRB/blob/master/tema_1_Angel_Isai_Ramirez_Bazan_.ipynb\" target=\"_parent\"><img src=\"https://colab.research.google.com/assets/colab-badge.svg\" alt=\"Open In Colab\"/></a>"
      ]
    },
    {
      "cell_type": "markdown",
      "metadata": {
        "id": "4HcYQ7s3OgPZ"
      },
      "source": [
        "#  En este notebook se cargar datos separados por comas de el arvico Iris de UCI Machine learning \n",
        "\n",
        "\n",
        "---\n",
        "\n",
        "\n",
        "\n",
        "Angel Isai Ramirez Bazan \n",
        "\n",
        "\n",
        "---\n",
        "\n"
      ]
    },
    {
      "cell_type": "code",
      "metadata": {
        "id": "PiIDDU_iVVsG"
      },
      "source": [
        "%tensorflow_version 2.x\n",
        "import numpy as np\n",
        "import pandas as pd\n",
        "import matplotlib.pyplot as plt\n",
        "import seaborn as sns\n",
        "print(\"Listo!!!\")"
      ],
      "execution_count": null,
      "outputs": []
    },
    {
      "cell_type": "markdown",
      "metadata": {
        "id": "P-LCvpPePOWG"
      },
      "source": [
        "Read the data using pandas\n",
        "Descarga de Datos"
      ]
    },
    {
      "cell_type": "code",
      "metadata": {
        "id": "7FDmtSicVoTl"
      },
      "source": [
        "#----------Descarga automatica de datos no es necesario ponerlos en el directorio de esta jupyternotbook\n",
        "\n",
        "\n",
        "filename = 'https://drive.google.com/uc?id=1-06QMUJ2nrzavezXAndKduc-GfuAEbMJ&export=download'\n",
        "print(\"descargando...\")\n",
        "# read file\n",
        "csv_data = pd.read_csv(filename, sep=',')\n",
        "print(\"listo\")\n",
        "x,y = csv_data.shape\n",
        "print(\"filas:\",x)\n",
        "print(\"Columnas\",y)\n"
      ],
      "execution_count": null,
      "outputs": []
    },
    {
      "cell_type": "markdown",
      "metadata": {
        "id": "MNorZFi6QrjK"
      },
      "source": [
        "se imprimen los 150 datos"
      ]
    },
    {
      "cell_type": "code",
      "metadata": {
        "id": "ruGqBrugVwqy"
      },
      "source": [
        "print(csv_data.cummax())"
      ],
      "execution_count": null,
      "outputs": []
    },
    {
      "cell_type": "markdown",
      "metadata": {
        "id": "fvQDnBSlQyWe"
      },
      "source": [
        "Print the previous results transposed so we can see all the columns (features)"
      ]
    },
    {
      "cell_type": "code",
      "metadata": {
        "id": "NRZrPwuIWBgR"
      },
      "source": [
        "print(csv_data.head().transpose())"
      ],
      "execution_count": null,
      "outputs": []
    },
    {
      "cell_type": "markdown",
      "metadata": {
        "id": "tfIe3kRzQ6GO"
      },
      "source": [
        "Look at the basic data stats per column"
      ]
    },
    {
      "cell_type": "code",
      "metadata": {
        "id": "DO-3z4zhWQRv"
      },
      "source": [
        "print(csv_data.describe())"
      ],
      "execution_count": null,
      "outputs": []
    },
    {
      "cell_type": "markdown",
      "metadata": {
        "id": "skjfB5yIQ-Et"
      },
      "source": [
        "Take a look at just two features using pandas indexing by columns"
      ]
    },
    {
      "cell_type": "code",
      "metadata": {
        "id": "5usgPj_3Wh9k"
      },
      "source": [
        "print(csv_data[['sepal length', 'sepal width']])"
      ],
      "execution_count": null,
      "outputs": []
    },
    {
      "cell_type": "markdown",
      "metadata": {
        "id": "ZraOO-yGPk9z"
      },
      "source": [
        "muestra los datos separados por la clase asi se puede notar muy bien c/u"
      ]
    },
    {
      "cell_type": "code",
      "metadata": {
        "id": "23__1FJ9XBcJ"
      },
      "source": [
        "sns.relplot(x='sepal length', y='class', size='class', alpha=0.5, palette='muted', data=csv_data)"
      ],
      "execution_count": null,
      "outputs": []
    },
    {
      "cell_type": "code",
      "metadata": {
        "id": "LqBbEgASea4X"
      },
      "source": [
        "sns.pairplot(csv_data.head(1000)[['sepal length', 'sepal width',\"petal lengt\",\"hpetal width\", 'class']])"
      ],
      "execution_count": null,
      "outputs": []
    },
    {
      "cell_type": "code",
      "metadata": {
        "id": "sLHUJxCqrRxE"
      },
      "source": [
        "sns.pairplot(csv_data.sample (n=150)[['sepal length', 'sepal width',\"petal lengt\",\"hpetal width\", 'class']])"
      ],
      "execution_count": null,
      "outputs": []
    }
  ]
}