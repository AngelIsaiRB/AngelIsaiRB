{
  "nbformat": 4,
  "nbformat_minor": 0,
  "metadata": {
    "colab": {
      "name": "Class2 Angelisai.ipynb",
      "provenance": [],
      "collapsed_sections": [
        "3z42DCLGLf4c"
      ],
      "authorship_tag": "ABX9TyOGWPQQTha+qRqZSd5b73vx"
    },
    "kernelspec": {
      "name": "python3",
      "display_name": "Python 3"
    }
  },
  "cells": [
    {
      "cell_type": "markdown",
      "metadata": {
        "id": "iBiKtK81TxFH"
      },
      "source": [
        "**Angel Isai Ramirez Bazan**"
      ]
    },
    {
      "cell_type": "markdown",
      "metadata": {
        "id": "CqFnZSKFTaUR"
      },
      "source": [
        "# Modelo inicial\n",
        "\n",
        "---\n",
        "\n"
      ]
    },
    {
      "cell_type": "code",
      "metadata": {
        "id": "oi0xO9bYau54",
        "outputId": "d91632b3-f202-410c-fb70-0eaf60c97e4d",
        "colab": {
          "base_uri": "https://localhost:8080/",
          "height": 34
        }
      },
      "source": [
        "%tensorflow_version 2.x\n",
        "from matplotlib import pyplot as plt\n",
        "import numpy as np\n",
        "import pandas as pd\n",
        "import seaborn as sns\n",
        "import tensorflow as tf\n",
        "\n",
        "print(tf.__version__)\n",
        "\n",
        "import tensorflow_addons as tfa"
      ],
      "execution_count": 1,
      "outputs": [
        {
          "output_type": "stream",
          "text": [
            "2.3.0\n"
          ],
          "name": "stdout"
        }
      ]
    },
    {
      "cell_type": "code",
      "metadata": {
        "id": "bBNIjDB0bDRi"
      },
      "source": [
        "filename = \"https://drive.google.com/uc?id=11k5uTqY3guUGrEvQN5f6r4xcue37ml7W&export=download\"\n",
        "csv_data= pd.read_csv(filename, sep=\",\")\n",
        "\n",
        "#no acepta campos de tipo String\n",
        "clean_data= csv_data.dropna()\n",
        "norm_data = (clean_data-clean_data.min())/(clean_data.max()-clean_data.min()) \n",
        "\n",
        "print(norm_data.describe())"
      ],
      "execution_count": null,
      "outputs": []
    },
    {
      "cell_type": "code",
      "metadata": {
        "id": "rX4gxLsliGrP"
      },
      "source": [
        "print(clean_data.describe())"
      ],
      "execution_count": null,
      "outputs": []
    },
    {
      "cell_type": "code",
      "metadata": {
        "id": "tUB0h3dBid39"
      },
      "source": [
        "#----------TRAIN/TEST SPLIT \n",
        "train_data = norm_data.sample(frac=0.8) # take 80% randomly from the data for training\n",
        "test_data = norm_data.drop(train_data.index) # reserve the rest for testing\n",
        "\n",
        "# separate out the y (results) from x (features)\n",
        "x_train = train_data.drop('registered', axis=1)\n",
        "y_train = train_data['registered']\n",
        "\n",
        "# separate out the y (results) from x (features)\n",
        "x_test = test_data.drop('registered', axis=1)\n",
        "y_test = test_data['registered']\n",
        "\n",
        "print('Training Data\\n', x_train.describe().transpose())\n",
        "print('Test Data\\n', x_test.describe().transpose())"
      ],
      "execution_count": null,
      "outputs": []
    },
    {
      "cell_type": "code",
      "metadata": {
        "id": "3fDXpoeTipQd",
        "outputId": "1b81df8b-3761-4e06-f53d-9e948153011e",
        "colab": {
          "base_uri": "https://localhost:8080/",
          "height": 34
        }
      },
      "source": [
        "print(len(x_train.keys()))"
      ],
      "execution_count": 24,
      "outputs": [
        {
          "output_type": "stream",
          "text": [
            "14\n"
          ],
          "name": "stdout"
        }
      ]
    },
    {
      "cell_type": "code",
      "metadata": {
        "id": "j3JKo8mHiuQr",
        "outputId": "6ef71a1b-6b00-4430-c0a1-9244e8bb599c",
        "colab": {
          "base_uri": "https://localhost:8080/",
          "height": 272
        }
      },
      "source": [
        "num_params = len(x_train.keys())\n",
        "print(num_params)\n",
        "model = tf.keras.Sequential([\n",
        "    tf.keras.layers.InputLayer([num_params], name=\"Input_Layer\"),\n",
        "    tf.keras.layers.Dense(32, activation='relu', name=\"dense_01\"),\n",
        "    tf.keras.layers.Dense(32, activation='relu', name=\"dense_02\"),\n",
        "    # 1 node in the output for the median_house_vale\n",
        "    tf.keras.layers.Dense(1, name=\"Output_Layer\")\n",
        "  ])\n",
        "\n",
        "learning_rate = 0.001\n",
        "model.compile(optimizer=tf.keras.optimizers.RMSprop(learning_rate),\n",
        "              # loss function to minimize\n",
        "              loss='mse',\n",
        "              # list of metrics to monitor\n",
        "              metrics=['mae',])\n",
        "\n",
        "model.summary()"
      ],
      "execution_count": 25,
      "outputs": [
        {
          "output_type": "stream",
          "text": [
            "14\n",
            "Model: \"sequential_2\"\n",
            "_________________________________________________________________\n",
            "Layer (type)                 Output Shape              Param #   \n",
            "=================================================================\n",
            "dense_01 (Dense)             (None, 32)                480       \n",
            "_________________________________________________________________\n",
            "dense_02 (Dense)             (None, 32)                1056      \n",
            "_________________________________________________________________\n",
            "Output_Layer (Dense)         (None, 1)                 33        \n",
            "=================================================================\n",
            "Total params: 1,569\n",
            "Trainable params: 1,569\n",
            "Non-trainable params: 0\n",
            "_________________________________________________________________\n"
          ],
          "name": "stdout"
        }
      ]
    },
    {
      "cell_type": "code",
      "metadata": {
        "id": "gpXbOLHwi3xd",
        "outputId": "d83c11aa-1f6f-461e-ba3c-d7d518aef2a3",
        "colab": {
          "base_uri": "https://localhost:8080/",
          "height": 121
        }
      },
      "source": [
        "tf.keras.utils.plot_model(\n",
        "    model,\n",
        "    to_file =\"model1.png\",\n",
        "    show_shapes=True,\n",
        "    show_layer_names=True,\n",
        "    rankdir=\"LR\",\n",
        "    expand_nested=True,\n",
        "    dpi=96,\n",
        ")"
      ],
      "execution_count": 26,
      "outputs": [
        {
          "output_type": "execute_result",
          "data": {
            "image/png": "[encoded data removed]",
            "text/plain": [
              "<IPython.core.display.Image object>"
            ]
          },
          "metadata": {
            "tags": []
          },
          "execution_count": 26
        }
      ]
    },
    {
      "cell_type": "code",
      "metadata": {
        "id": "DkrtAWLTi7er",
        "outputId": "1fff0b34-0a58-4da1-e011-b575617cf2ed",
        "colab": {
          "base_uri": "https://localhost:8080/",
          "height": 867
        }
      },
      "source": [
        "# Fit/Train model on training data\n",
        "history = model.fit(x_train, y_train,\n",
        "                    batch_size=16,\n",
        "                    epochs=15,\n",
        "                    validation_split=0.2,\n",
        "                    verbose=1)"
      ],
      "execution_count": 27,
      "outputs": [
        {
          "output_type": "stream",
          "text": [
            "Epoch 1/25\n",
            "30/30 [==============================] - 0s 6ms/step - loss: 0.0833 - mae: 0.2119 - val_loss: 0.0170 - val_mae: 0.1091\n",
            "Epoch 2/25\n",
            "30/30 [==============================] - 0s 2ms/step - loss: 0.0155 - mae: 0.0950 - val_loss: 0.0075 - val_mae: 0.0701\n",
            "Epoch 3/25\n",
            "30/30 [==============================] - 0s 2ms/step - loss: 0.0097 - mae: 0.0744 - val_loss: 0.0076 - val_mae: 0.0706\n",
            "Epoch 4/25\n",
            "30/30 [==============================] - 0s 2ms/step - loss: 0.0073 - mae: 0.0635 - val_loss: 0.0077 - val_mae: 0.0696\n",
            "Epoch 5/25\n",
            "30/30 [==============================] - 0s 2ms/step - loss: 0.0064 - mae: 0.0602 - val_loss: 0.0043 - val_mae: 0.0519\n",
            "Epoch 6/25\n",
            "30/30 [==============================] - 0s 2ms/step - loss: 0.0057 - mae: 0.0572 - val_loss: 0.0059 - val_mae: 0.0599\n",
            "Epoch 7/25\n",
            "30/30 [==============================] - 0s 2ms/step - loss: 0.0048 - mae: 0.0515 - val_loss: 0.0045 - val_mae: 0.0521\n",
            "Epoch 8/25\n",
            "30/30 [==============================] - 0s 2ms/step - loss: 0.0045 - mae: 0.0524 - val_loss: 0.0090 - val_mae: 0.0790\n",
            "Epoch 9/25\n",
            "30/30 [==============================] - 0s 2ms/step - loss: 0.0046 - mae: 0.0506 - val_loss: 0.0076 - val_mae: 0.0713\n",
            "Epoch 10/25\n",
            "30/30 [==============================] - 0s 2ms/step - loss: 0.0043 - mae: 0.0495 - val_loss: 0.0049 - val_mae: 0.0554\n",
            "Epoch 11/25\n",
            "30/30 [==============================] - 0s 2ms/step - loss: 0.0039 - mae: 0.0465 - val_loss: 0.0079 - val_mae: 0.0748\n",
            "Epoch 12/25\n",
            "30/30 [==============================] - 0s 2ms/step - loss: 0.0033 - mae: 0.0442 - val_loss: 0.0072 - val_mae: 0.0703\n",
            "Epoch 13/25\n",
            "30/30 [==============================] - 0s 2ms/step - loss: 0.0038 - mae: 0.0461 - val_loss: 0.0028 - val_mae: 0.0415\n",
            "Epoch 14/25\n",
            "30/30 [==============================] - 0s 2ms/step - loss: 0.0032 - mae: 0.0423 - val_loss: 0.0036 - val_mae: 0.0474\n",
            "Epoch 15/25\n",
            "30/30 [==============================] - 0s 2ms/step - loss: 0.0028 - mae: 0.0406 - val_loss: 0.0033 - val_mae: 0.0449\n",
            "Epoch 16/25\n",
            "30/30 [==============================] - 0s 2ms/step - loss: 0.0031 - mae: 0.0416 - val_loss: 0.0032 - val_mae: 0.0437\n",
            "Epoch 17/25\n",
            "30/30 [==============================] - 0s 2ms/step - loss: 0.0030 - mae: 0.0412 - val_loss: 0.0023 - val_mae: 0.0367\n",
            "Epoch 18/25\n",
            "30/30 [==============================] - 0s 2ms/step - loss: 0.0028 - mae: 0.0407 - val_loss: 0.0029 - val_mae: 0.0429\n",
            "Epoch 19/25\n",
            "30/30 [==============================] - 0s 2ms/step - loss: 0.0021 - mae: 0.0358 - val_loss: 0.0028 - val_mae: 0.0417\n",
            "Epoch 20/25\n",
            "30/30 [==============================] - 0s 2ms/step - loss: 0.0025 - mae: 0.0365 - val_loss: 0.0035 - val_mae: 0.0474\n",
            "Epoch 21/25\n",
            "30/30 [==============================] - 0s 2ms/step - loss: 0.0023 - mae: 0.0359 - val_loss: 0.0036 - val_mae: 0.0496\n",
            "Epoch 22/25\n",
            "30/30 [==============================] - 0s 2ms/step - loss: 0.0022 - mae: 0.0370 - val_loss: 0.0018 - val_mae: 0.0316\n",
            "Epoch 23/25\n",
            "30/30 [==============================] - 0s 2ms/step - loss: 0.0018 - mae: 0.0324 - val_loss: 0.0053 - val_mae: 0.0599\n",
            "Epoch 24/25\n",
            "30/30 [==============================] - 0s 2ms/step - loss: 0.0020 - mae: 0.0342 - val_loss: 0.0022 - val_mae: 0.0360\n",
            "Epoch 25/25\n",
            "30/30 [==============================] - 0s 2ms/step - loss: 0.0016 - mae: 0.0304 - val_loss: 0.0020 - val_mae: 0.0338\n"
          ],
          "name": "stdout"
        }
      ]
    },
    {
      "cell_type": "code",
      "metadata": {
        "id": "Qd3M9ZF2jENU",
        "outputId": "da55b4a6-81df-4535-b9c3-c528e73ca36b",
        "colab": {
          "base_uri": "https://localhost:8080/",
          "height": 567
        }
      },
      "source": [
        "#--------MONITOR\n",
        "# Plot training & validation loss values\n",
        "fig = plt.figure(figsize=(12,9))\n",
        "plt.plot(history.history['loss'])\n",
        "plt.plot(history.history['val_loss'])\n",
        "plt.title('Model loss')\n",
        "plt.ylabel('Loss')\n",
        "plt.xlabel('Epoch')\n",
        "plt.legend(['Train', 'Validate'], loc='upper left')\n",
        "plt.show()"
      ],
      "execution_count": 28,
      "outputs": [
        {
          "output_type": "display_data",
          "data": {
            "image/png": "[encoded data removed]",
            "text/plain": [
              "<Figure size 864x648 with 1 Axes>"
            ]
          },
          "metadata": {
            "tags": [],
            "needs_background": "light"
          }
        }
      ]
    },
    {
      "cell_type": "code",
      "metadata": {
        "id": "pGjToLwAjIEk",
        "outputId": "799cc271-e200-4a6d-a952-b5060a60e515",
        "colab": {
          "base_uri": "https://localhost:8080/",
          "height": 51
        }
      },
      "source": [
        " #--------EVALUATE\n",
        "loss, mae = model.evaluate(x_test, y_test, verbose=2)\n",
        "print('Loss:', loss, 'MAE:', mae)"
      ],
      "execution_count": 35,
      "outputs": [
        {
          "output_type": "stream",
          "text": [
            "5/5 - 0s - loss: 0.0011 - mae: 0.0222\n",
            "Loss: 0.0010518832132220268 MAE: 0.022165575996041298\n"
          ],
          "name": "stdout"
        }
      ]
    },
    {
      "cell_type": "code",
      "metadata": {
        "id": "mKF6i9IsjKul"
      },
      "source": [
        "p_test = model.predict(x_test)"
      ],
      "execution_count": 34,
      "outputs": []
    },
    {
      "cell_type": "code",
      "metadata": {
        "id": "C8PVK9N9jM8J",
        "outputId": "7a45aef9-f977-4971-8c45-0911159ee1aa",
        "colab": {
          "base_uri": "https://localhost:8080/",
          "height": 555
        }
      },
      "source": [
        "#----------PLOT True Values vs. Predictions\n",
        "fig = plt.figure(figsize=(9,9))\n",
        "a = plt.axes(aspect='equal')\n",
        "plt.scatter(y_test, p_test)\n",
        "plt.xlabel('True Values')\n",
        "plt.ylabel('Predictions')\n",
        "lims = [0, 1]\n",
        "plt.xlim(lims)\n",
        "plt.ylim(lims)\n",
        "# draw a diagonal line for comparison\n",
        "plt.plot(lims, lims)\n",
        "plt.show()"
      ],
      "execution_count": 36,
      "outputs": [
        {
          "output_type": "display_data",
          "data": {
            "image/png": "[encoded data removed]",
            "text/plain": [
              "<Figure size 648x648 with 1 Axes>"
            ]
          },
          "metadata": {
            "tags": [],
            "needs_background": "light"
          }
        }
      ]
    },
    {
      "cell_type": "code",
      "metadata": {
        "id": "Mt6RzoaXjUeI",
        "outputId": "10338da7-6a32-4a21-b5d1-c61edb04c0af",
        "colab": {
          "base_uri": "https://localhost:8080/",
          "height": 551
        }
      },
      "source": [
        "fig = plt.figure(figsize=(9,9))\n",
        "error = p_test.flatten() - y_test\n",
        "plt.hist(error, bins = 25)\n",
        "plt.xlabel(\"Prediction Error\")\n",
        "plt.ylabel(\"Count\")\n",
        "plt.show()"
      ],
      "execution_count": 31,
      "outputs": [
        {
          "output_type": "display_data",
          "data": {
            "image/png": "[encoded data removed]",
            "text/plain": [
              "<Figure size 648x648 with 1 Axes>"
            ]
          },
          "metadata": {
            "tags": [],
            "needs_background": "light"
          }
        }
      ]
    },
    {
      "cell_type": "markdown",
      "metadata": {
        "id": "3z42DCLGLf4c"
      },
      "source": [
        "# **Homework**\n",
        "\n",
        "7 ejercicios "
      ]
    },
    {
      "cell_type": "markdown",
      "metadata": {
        "id": "11-RyAslLtVt"
      },
      "source": [
        "Increase / decrease number of epochs"
      ]
    },
    {
      "cell_type": "code",
      "metadata": {
        "id": "Kv3Y2Mk6MJYb"
      },
      "source": [
        "#Decrease\n",
        "\n",
        "history = model.fit(x_train, y_train,\n",
        "                    batch_size=16,\n",
        "                    epochs=5,             # here is the modification \n",
        "                    validation_split=0.2,\n",
        "                    verbose=1)\n",
        "\n",
        "fig = plt.figure(figsize=(12,9))\n",
        "plt.plot(history.history['loss'])\n",
        "plt.plot(history.history['val_loss'])\n",
        "plt.title('Model loss')\n",
        "plt.ylabel('Loss')\n",
        "plt.xlabel('Epoch')\n",
        "plt.legend(['Train', 'Validate'], loc='upper left')\n",
        "plt.show()\n",
        " #--------EVALUATE\n",
        "loss, mae = model.evaluate(x_test, y_test, verbose=2)\n",
        "print('Loss:', loss, 'MAE:', mae)\n",
        "p_test = model.predict(x_test)\n",
        "#----------PLOT True Values vs. Predictions\n",
        "fig = plt.figure(figsize=(9,9))\n",
        "a = plt.axes(aspect='equal')\n",
        "plt.scatter(y_test, p_test)\n",
        "plt.xlabel('True Values')\n",
        "plt.ylabel('Predictions')\n",
        "lims = [0, 1]\n",
        "plt.xlim(lims)\n",
        "plt.ylim(lims)\n",
        "# draw a diagonal line for comparison\n",
        "plt.plot(lims, lims)\n",
        "plt.show()"
      ],
      "execution_count": null,
      "outputs": []
    },
    {
      "cell_type": "code",
      "metadata": {
        "id": "SCP7_rm4Mu63"
      },
      "source": [
        "#Increase\n",
        "\n",
        "\n",
        "history = model.fit(x_train, y_train,\n",
        "                    batch_size=16,\n",
        "                    epochs=40,             # here is the modification \n",
        "                    validation_split=0.2,\n",
        "                    verbose=1)\n",
        "\n",
        "fig = plt.figure(figsize=(12,9))\n",
        "plt.plot(history.history['loss'])\n",
        "plt.plot(history.history['val_loss'])\n",
        "plt.title('Model loss')\n",
        "plt.ylabel('Loss')\n",
        "plt.xlabel('Epoch')\n",
        "plt.legend(['Train', 'Validate'], loc='upper left')\n",
        "plt.show()\n",
        " #--------EVALUATE\n",
        "loss, mae = model.evaluate(x_test, y_test, verbose=2)\n",
        "print('Loss:', loss, 'MAE:', mae)\n",
        "p_test = model.predict(x_test)\n",
        "#----------PLOT True Values vs. Predictions\n",
        "fig = plt.figure(figsize=(9,9))\n",
        "a = plt.axes(aspect='equal')\n",
        "plt.scatter(y_test, p_test)\n",
        "plt.xlabel('True Values')\n",
        "plt.ylabel('Predictions')\n",
        "lims = [0, 1]\n",
        "plt.xlim(lims)\n",
        "plt.ylim(lims)\n",
        "# draw a diagonal line for comparison\n",
        "plt.plot(lims, lims)\n",
        "plt.show()"
      ],
      "execution_count": null,
      "outputs": []
    },
    {
      "cell_type": "markdown",
      "metadata": {
        "id": "nXfl53pqM6Yo"
      },
      "source": [
        "try different batch sizes : 16"
      ]
    },
    {
      "cell_type": "code",
      "metadata": {
        "id": "oeb59D97NXw1"
      },
      "source": [
        "#Increase\n",
        "\n",
        "\n",
        "history = model.fit(x_train, y_train,\n",
        "                    batch_size=50,    # here is the modification \n",
        "                    #  entre mas pequeno el batch_size mas tarda en entrenar \n",
        "                    epochs=25,            \n",
        "                    validation_split=0.2,\n",
        "                    verbose=1)\n",
        "\n",
        "fig = plt.figure(figsize=(12,9))\n",
        "plt.plot(history.history['loss'])\n",
        "plt.plot(history.history['val_loss'])\n",
        "plt.title('Model loss')\n",
        "plt.ylabel('Loss')\n",
        "plt.xlabel('Epoch')\n",
        "plt.legend(['Train', 'Validate'], loc='upper left')\n",
        "plt.show()\n",
        " #--------EVALUATE\n",
        "loss, mae = model.evaluate(x_test, y_test, verbose=2)\n",
        "print('Loss:', loss, 'MAE:', mae)\n",
        "p_test = model.predict(x_test)\n",
        "#----------PLOT True Values vs. Predictions\n",
        "fig = plt.figure(figsize=(9,9))\n",
        "a = plt.axes(aspect='equal')\n",
        "plt.scatter(y_test, p_test)\n",
        "plt.xlabel('True Values')\n",
        "plt.ylabel('Predictions')\n",
        "lims = [0, 1]\n",
        "plt.xlim(lims)\n",
        "plt.ylim(lims)\n",
        "# draw a diagonal line for comparison\n",
        "plt.plot(lims, lims)\n",
        "plt.show()"
      ],
      "execution_count": null,
      "outputs": []
    },
    {
      "cell_type": "markdown",
      "metadata": {
        "id": "n0u_NJKnN7qw"
      },
      "source": [
        "try the different learning rates"
      ]
    },
    {
      "cell_type": "code",
      "metadata": {
        "id": "M30ULyyIN_MN"
      },
      "source": [
        "num_params = len(x_train.keys())\n",
        "print(num_params)\n",
        "model = tf.keras.Sequential([\n",
        "    tf.keras.layers.InputLayer([num_params], name=\"Input_Layer\"),\n",
        "    tf.keras.layers.Dense(32, activation='relu', name=\"dense_01\"),\n",
        "    tf.keras.layers.Dense(32, activation='relu', name=\"dense_02\"),\n",
        "    \n",
        "    tf.keras.layers.Dense(1, name=\"Output_Layer\")\n",
        "  ])\n",
        "\n",
        "learning_rate = 0.000001                                                      # here is the modification\n",
        "model.compile(optimizer=tf.keras.optimizers.RMSprop(learning_rate),\n",
        "             \n",
        "              loss='mse',\n",
        "              \n",
        "              metrics=['mae',])\n",
        "\n",
        "model.summary()\n",
        "history = model.fit(x_train, y_train,\n",
        "                    batch_size=16,   \n",
        "                    epochs=25,            \n",
        "                    validation_split=0.2,\n",
        "                    verbose=1)\n",
        "\n",
        "fig = plt.figure(figsize=(12,9))\n",
        "plt.plot(history.history['loss'])\n",
        "plt.plot(history.history['val_loss'])\n",
        "plt.title('Model loss')\n",
        "plt.ylabel('Loss')\n",
        "plt.xlabel('Epoch')\n",
        "plt.legend(['Train', 'Validate'], loc='upper left')\n",
        "plt.show()\n",
        " #--------EVALUATE\n",
        "loss, mae = model.evaluate(x_test, y_test, verbose=2)\n",
        "print('Loss:', loss, 'MAE:', mae)\n",
        "p_test = model.predict(x_test)\n",
        "#----------PLOT True Values vs. Predictions\n",
        "fig = plt.figure(figsize=(9,9))\n",
        "a = plt.axes(aspect='equal')\n",
        "plt.scatter(y_test, p_test)\n",
        "plt.xlabel('True Values')\n",
        "plt.ylabel('Predictions')\n",
        "lims = [0, 1]\n",
        "plt.xlim(lims)\n",
        "plt.ylim(lims)\n",
        "# draw a diagonal line for comparison\n",
        "plt.plot(lims, lims)\n",
        "plt.show()"
      ],
      "execution_count": null,
      "outputs": []
    },
    {
      "cell_type": "markdown",
      "metadata": {
        "id": "zM-KTf68O-ad"
      },
      "source": [
        "try different optimizers"
      ]
    },
    {
      "cell_type": "code",
      "metadata": {
        "id": "uFYIZ2FJQ8Kz"
      },
      "source": [
        "\n",
        "num_params = len(x_train.keys())\n",
        "print(num_params)\n",
        "model = tf.keras.Sequential([\n",
        "    tf.keras.layers.InputLayer([num_params], name=\"Input_Layer\"),\n",
        "    tf.keras.layers.Dense(32, activation='relu', name=\"dense_01\"),\n",
        "    tf.keras.layers.Dense(32, activation='relu', name=\"dense_02\"),\n",
        "    \n",
        "    tf.keras.layers.Dense(1, name=\"Output_Layer\")\n",
        "  ])\n",
        "\n",
        "learning_rate = 0.01                                                    \n",
        "model.compile(optimizer=tf.keras.optimizers.Adam(learning_rate),  # here is the modification   .Adam\n",
        "             \n",
        "              loss='mse',\n",
        "              \n",
        "              metrics=['mae',])\n",
        "\n",
        "model.summary()\n",
        "history = model.fit(x_train, y_train,\n",
        "                    batch_size=16,   \n",
        "                    epochs=25,            \n",
        "                    validation_split=0.2,\n",
        "                    verbose=1)\n",
        "\n",
        "fig = plt.figure(figsize=(12,9))\n",
        "plt.plot(history.history['loss'])\n",
        "plt.plot(history.history['val_loss'])\n",
        "plt.title('Model loss')\n",
        "plt.ylabel('Loss')\n",
        "plt.xlabel('Epoch')\n",
        "plt.legend(['Train', 'Validate'], loc='upper left')\n",
        "plt.show()\n",
        " #--------EVALUATE\n",
        "loss, mae = model.evaluate(x_test, y_test, verbose=2)\n",
        "print('Loss:', loss, 'MAE:', mae)\n",
        "p_test = model.predict(x_test)\n",
        "#----------PLOT True Values vs. Predictions\n",
        "fig = plt.figure(figsize=(9,9))\n",
        "a = plt.axes(aspect='equal')\n",
        "plt.scatter(y_test, p_test)\n",
        "plt.xlabel('True Values')\n",
        "plt.ylabel('Predictions')\n",
        "lims = [0, 1]\n",
        "plt.xlim(lims)\n",
        "plt.ylim(lims)\n",
        "# draw a diagonal line for comparison\n",
        "plt.plot(lims, lims)\n",
        "plt.show()"
      ],
      "execution_count": null,
      "outputs": []
    },
    {
      "cell_type": "markdown",
      "metadata": {
        "id": "iMvOl1RgRmOj"
      },
      "source": [
        "try different loss functions "
      ]
    },
    {
      "cell_type": "code",
      "metadata": {
        "id": "uSyVQKMhRqT-"
      },
      "source": [
        "num_params = len(x_train.keys())\n",
        "print(num_params)\n",
        "model = tf.keras.Sequential([\n",
        "    tf.keras.layers.InputLayer([num_params], name=\"Input_Layer\"),\n",
        "    tf.keras.layers.Dense(32, activation='relu', name=\"dense_01\"),\n",
        "    tf.keras.layers.Dense(32, activation='relu', name=\"dense_02\"),\n",
        "    \n",
        "    tf.keras.layers.Dense(1, name=\"Output_Layer\")\n",
        "  ])\n",
        "\n",
        "learning_rate = 0.01                                                    \n",
        "model.compile(optimizer=tf.keras.optimizers.Adam(learning_rate),  \n",
        "             \n",
        "              loss='mae',\n",
        "                              # here is the modification  \n",
        "              metrics=['mse',])\n",
        "\n",
        "model.summary()\n",
        "history = model.fit(x_train, y_train,\n",
        "                    batch_size=16,   \n",
        "                    epochs=25,            \n",
        "                    validation_split=0.2,\n",
        "                    verbose=1)\n",
        "\n",
        "fig = plt.figure(figsize=(12,9))\n",
        "plt.plot(history.history['loss'])\n",
        "plt.plot(history.history['val_loss'])\n",
        "plt.title('Model loss')\n",
        "plt.ylabel('Loss')\n",
        "plt.xlabel('Epoch')\n",
        "plt.legend(['Train', 'Validate'], loc='upper left')\n",
        "plt.show()\n",
        " #--------EVALUATE\n",
        "loss, mae = model.evaluate(x_test, y_test, verbose=2)\n",
        "print('Loss:', loss, 'MAE:', mae)\n",
        "p_test = model.predict(x_test)\n",
        "#----------PLOT True Values vs. Predictions\n",
        "fig = plt.figure(figsize=(9,9))\n",
        "a = plt.axes(aspect='equal')\n",
        "plt.scatter(y_test, p_test)\n",
        "plt.xlabel('True Values')\n",
        "plt.ylabel('Predictions')\n",
        "lims = [0, 1]\n",
        "plt.xlim(lims)\n",
        "plt.ylim(lims)\n",
        "# draw a diagonal line for comparison\n",
        "plt.plot(lims, lims)\n",
        "plt.show()"
      ],
      "execution_count": null,
      "outputs": []
    },
    {
      "cell_type": "markdown",
      "metadata": {
        "id": "I8chgjwqSRBf"
      },
      "source": [
        "make the network deeper (more layers) or denser (more nodes/layer)"
      ]
    },
    {
      "cell_type": "code",
      "metadata": {
        "id": "-5KiIAY9SXre",
        "outputId": "ee5108da-48d2-45b9-ec5f-c8bcdf7b3d59",
        "colab": {
          "base_uri": "https://localhost:8080/",
          "height": 1000
        }
      },
      "source": [
        "num_params = len(x_train.keys())\n",
        "print(num_params)\n",
        "model = tf.keras.Sequential([\n",
        "    tf.keras.layers.InputLayer([num_params], name=\"Input_Layer\"),\n",
        "    tf.keras.layers.Dense(32, activation='relu', name=\"dense_01\"),\n",
        "    tf.keras.layers.Dense(32, activation='relu', name=\"dense_02\"),      # here is the modification \n",
        "    tf.keras.layers.Dense(32, activation='relu', name=\"dense_03\"),      # here is the modification  \n",
        "    tf.keras.layers.Dense(32, activation='relu', name=\"dense_04\"),      # here is the modification \n",
        "    tf.keras.layers.Dense(32, activation='relu', name=\"dense_05\"),\n",
        "    tf.keras.layers.Dense(1, name=\"Output_Layer\")\n",
        "  ])\n",
        "\n",
        "learning_rate = 0.01                                                    \n",
        "model.compile(optimizer=tf.keras.optimizers.Adam(learning_rate),  \n",
        "             \n",
        "              loss='mse',\n",
        "                              \n",
        "              metrics=['mae',])\n",
        "\n",
        "model.summary()\n",
        "history = model.fit(x_train, y_train,\n",
        "                    batch_size=16,   \n",
        "                    epochs=25,            \n",
        "                    validation_split=0.2,\n",
        "                    verbose=1)\n",
        "\n",
        "fig = plt.figure(figsize=(12,9))\n",
        "plt.plot(history.history['loss'])\n",
        "plt.plot(history.history['val_loss'])\n",
        "plt.title('Model loss')\n",
        "plt.ylabel('Loss')\n",
        "plt.xlabel('Epoch')\n",
        "plt.legend(['Train', 'Validate'], loc='upper left')\n",
        "plt.show()\n",
        " #--------EVALUATE\n",
        "loss, mae = model.evaluate(x_test, y_test, verbose=2)\n",
        "print('Loss:', loss, 'MAE:', mae)\n",
        "p_test = model.predict(x_test)\n",
        "#----------PLOT True Values vs. Predictions\n",
        "fig = plt.figure(figsize=(9,9))\n",
        "a = plt.axes(aspect='equal')\n",
        "plt.scatter(y_test, p_test)\n",
        "plt.xlabel('True Values')\n",
        "plt.ylabel('Predictions')\n",
        "lims = [0, 1]\n",
        "plt.xlim(lims)\n",
        "plt.ylim(lims)\n",
        "# draw a diagonal line for comparison\n",
        "plt.plot(lims, lims)\n",
        "plt.show()"
      ],
      "execution_count": 58,
      "outputs": [
        {
          "output_type": "stream",
          "text": [
            "14\n",
            "Model: \"sequential_14\"\n",
            "_________________________________________________________________\n",
            "Layer (type)                 Output Shape              Param #   \n",
            "=================================================================\n",
            "dense_01 (Dense)             (None, 32)                480       \n",
            "_________________________________________________________________\n",
            "dense_02 (Dense)             (None, 32)                1056      \n",
            "_________________________________________________________________\n",
            "dense_03 (Dense)             (None, 32)                1056      \n",
            "_________________________________________________________________\n",
            "dense_04 (Dense)             (None, 32)                1056      \n",
            "_________________________________________________________________\n",
            "dense_05 (Dense)             (None, 32)                1056      \n",
            "_________________________________________________________________\n",
            "Output_Layer (Dense)         (None, 1)                 33        \n",
            "=================================================================\n",
            "Total params: 4,737\n",
            "Trainable params: 4,737\n",
            "Non-trainable params: 0\n",
            "_________________________________________________________________\n",
            "Epoch 1/25\n",
            "30/30 [==============================] - 0s 6ms/step - loss: 0.0274 - mae: 0.1279 - val_loss: 0.0131 - val_mae: 0.0959\n",
            "Epoch 2/25\n",
            "30/30 [==============================] - 0s 2ms/step - loss: 0.0082 - mae: 0.0709 - val_loss: 0.0045 - val_mae: 0.0537\n",
            "Epoch 3/25\n",
            "30/30 [==============================] - 0s 2ms/step - loss: 0.0055 - mae: 0.0571 - val_loss: 0.0037 - val_mae: 0.0471\n",
            "Epoch 4/25\n",
            "30/30 [==============================] - 0s 2ms/step - loss: 0.0033 - mae: 0.0434 - val_loss: 0.0034 - val_mae: 0.0450\n",
            "Epoch 5/25\n",
            "30/30 [==============================] - 0s 2ms/step - loss: 0.0029 - mae: 0.0416 - val_loss: 0.0038 - val_mae: 0.0496\n",
            "Epoch 6/25\n",
            "30/30 [==============================] - 0s 2ms/step - loss: 0.0030 - mae: 0.0435 - val_loss: 0.0049 - val_mae: 0.0570\n",
            "Epoch 7/25\n",
            "30/30 [==============================] - 0s 2ms/step - loss: 0.0039 - mae: 0.0509 - val_loss: 0.0042 - val_mae: 0.0534\n",
            "Epoch 8/25\n",
            "30/30 [==============================] - 0s 2ms/step - loss: 0.0029 - mae: 0.0416 - val_loss: 0.0035 - val_mae: 0.0484\n",
            "Epoch 9/25\n",
            "30/30 [==============================] - 0s 2ms/step - loss: 0.0019 - mae: 0.0342 - val_loss: 0.0015 - val_mae: 0.0301\n",
            "Epoch 10/25\n",
            "30/30 [==============================] - 0s 2ms/step - loss: 0.0010 - mae: 0.0253 - val_loss: 0.0012 - val_mae: 0.0269\n",
            "Epoch 11/25\n",
            "30/30 [==============================] - 0s 2ms/step - loss: 0.0013 - mae: 0.0290 - val_loss: 0.0017 - val_mae: 0.0341\n",
            "Epoch 12/25\n",
            "30/30 [==============================] - 0s 3ms/step - loss: 0.0016 - mae: 0.0313 - val_loss: 0.0011 - val_mae: 0.0262\n",
            "Epoch 13/25\n",
            "30/30 [==============================] - 0s 2ms/step - loss: 6.1311e-04 - mae: 0.0191 - val_loss: 6.8168e-04 - val_mae: 0.0199\n",
            "Epoch 14/25\n",
            "30/30 [==============================] - 0s 2ms/step - loss: 4.9914e-04 - mae: 0.0177 - val_loss: 8.0064e-04 - val_mae: 0.0202\n",
            "Epoch 15/25\n",
            "30/30 [==============================] - 0s 2ms/step - loss: 3.8668e-04 - mae: 0.0155 - val_loss: 8.9794e-04 - val_mae: 0.0245\n",
            "Epoch 16/25\n",
            "30/30 [==============================] - 0s 2ms/step - loss: 8.8329e-04 - mae: 0.0237 - val_loss: 6.7813e-04 - val_mae: 0.0201\n",
            "Epoch 17/25\n",
            "30/30 [==============================] - 0s 2ms/step - loss: 3.9413e-04 - mae: 0.0160 - val_loss: 7.4265e-04 - val_mae: 0.0179\n",
            "Epoch 18/25\n",
            "30/30 [==============================] - 0s 2ms/step - loss: 2.7737e-04 - mae: 0.0129 - val_loss: 5.9160e-04 - val_mae: 0.0171\n",
            "Epoch 19/25\n",
            "30/30 [==============================] - 0s 2ms/step - loss: 4.4266e-04 - mae: 0.0166 - val_loss: 7.5352e-04 - val_mae: 0.0198\n",
            "Epoch 20/25\n",
            "30/30 [==============================] - 0s 2ms/step - loss: 3.8259e-04 - mae: 0.0156 - val_loss: 5.7422e-04 - val_mae: 0.0155\n",
            "Epoch 21/25\n",
            "30/30 [==============================] - 0s 2ms/step - loss: 2.2645e-04 - mae: 0.0121 - val_loss: 8.3701e-04 - val_mae: 0.0229\n",
            "Epoch 22/25\n",
            "30/30 [==============================] - 0s 2ms/step - loss: 2.2266e-04 - mae: 0.0119 - val_loss: 5.6511e-04 - val_mae: 0.0171\n",
            "Epoch 23/25\n",
            "30/30 [==============================] - 0s 2ms/step - loss: 1.6997e-04 - mae: 0.0106 - val_loss: 0.0012 - val_mae: 0.0296\n",
            "Epoch 24/25\n",
            "30/30 [==============================] - 0s 2ms/step - loss: 2.3325e-04 - mae: 0.0116 - val_loss: 4.3674e-04 - val_mae: 0.0123\n",
            "Epoch 25/25\n",
            "30/30 [==============================] - 0s 2ms/step - loss: 2.4669e-04 - mae: 0.0127 - val_loss: 3.8935e-04 - val_mae: 0.0123\n"
          ],
          "name": "stdout"
        },
        {
          "output_type": "display_data",
          "data": {
            "image/png": "[encoded data removed]",
            "text/plain": [
              "<Figure size 864x648 with 1 Axes>"
            ]
          },
          "metadata": {
            "tags": [],
            "needs_background": "light"
          }
        },
        {
          "output_type": "stream",
          "text": [
            "5/5 - 0s - loss: 2.6281e-04 - mae: 0.0116\n",
            "Loss: 0.0002628123911563307 MAE: 0.011595452204346657\n"
          ],
          "name": "stdout"
        },
        {
          "output_type": "display_data",
          "data": {
            "image/png": "[encoded data removed]",
            "text/plain": [
              "<Figure size 648x648 with 1 Axes>"
            ]
          },
          "metadata": {
            "tags": [],
            "needs_background": "light"
          }
        }
      ]
    },
    {
      "cell_type": "markdown",
      "metadata": {
        "id": "aKFqhy4HS60I"
      },
      "source": [
        "**more nodes The best model** \n",
        "\n",
        "\n",
        "\n",
        "\n",
        "\n"
      ]
    },
    {
      "cell_type": "code",
      "metadata": {
        "id": "7tYbsQ9ISo2F",
        "outputId": "1a9713c1-1128-4dc7-863b-ceab756cc5f7",
        "colab": {
          "base_uri": "https://localhost:8080/",
          "height": 1000
        }
      },
      "source": [
        "num_params = len(x_train.keys())\n",
        "print(num_params)\n",
        "model = tf.keras.Sequential([\n",
        "    tf.keras.layers.InputLayer([num_params], name=\"Input_Layer\"),\n",
        "    tf.keras.layers.Dense(64, activation='relu', name=\"dense_01\"),    # here is the modification  \n",
        "    tf.keras.layers.Dense(62, activation='relu', name=\"dense_02\"),     # here is the modification        \n",
        "    tf.keras.layers.Dense(1, name=\"Output_Layer\")\n",
        "  ])\n",
        "\n",
        "learning_rate = 0.01                                                    \n",
        "model.compile(optimizer=tf.keras.optimizers.Adam(learning_rate),  \n",
        "             \n",
        "              loss='mse',\n",
        "                              \n",
        "              metrics=['mae',])\n",
        "\n",
        "model.summary()\n",
        "history = model.fit(x_train, y_train,\n",
        "                    batch_size=16,   \n",
        "                    epochs=25,            \n",
        "                    validation_split=0.2,\n",
        "                    verbose=1)\n",
        "\n",
        "fig = plt.figure(figsize=(12,9))\n",
        "plt.plot(history.history['loss'])\n",
        "plt.plot(history.history['val_loss'])\n",
        "plt.title('Model loss')\n",
        "plt.ylabel('Loss')\n",
        "plt.xlabel('Epoch')\n",
        "plt.legend(['Train', 'Validate'], loc='upper left')\n",
        "plt.show()\n",
        " #--------EVALUATE\n",
        "loss, mae = model.evaluate(x_test, y_test, verbose=2)\n",
        "print('Loss:', loss, 'MAE:', mae)\n",
        "p_test = model.predict(x_test)\n",
        "#----------PLOT True Values vs. Predictions\n",
        "fig = plt.figure(figsize=(9,9))\n",
        "a = plt.axes(aspect='equal')\n",
        "plt.scatter(y_test, p_test)\n",
        "plt.xlabel('True Values')\n",
        "plt.ylabel('Predictions')\n",
        "lims = [0, 1]\n",
        "plt.xlim(lims)\n",
        "plt.ylim(lims)\n",
        "# draw a diagonal line for comparison\n",
        "plt.plot(lims, lims)\n",
        "plt.show()"
      ],
      "execution_count": 59,
      "outputs": [
        {
          "output_type": "stream",
          "text": [
            "14\n",
            "Model: \"sequential_15\"\n",
            "_________________________________________________________________\n",
            "Layer (type)                 Output Shape              Param #   \n",
            "=================================================================\n",
            "dense_01 (Dense)             (None, 64)                960       \n",
            "_________________________________________________________________\n",
            "dense_02 (Dense)             (None, 62)                4030      \n",
            "_________________________________________________________________\n",
            "Output_Layer (Dense)         (None, 1)                 63        \n",
            "=================================================================\n",
            "Total params: 5,053\n",
            "Trainable params: 5,053\n",
            "Non-trainable params: 0\n",
            "_________________________________________________________________\n",
            "Epoch 1/25\n",
            "30/30 [==============================] - 0s 6ms/step - loss: 0.0722 - mae: 0.1798 - val_loss: 0.0101 - val_mae: 0.0789\n",
            "Epoch 2/25\n",
            "30/30 [==============================] - 0s 2ms/step - loss: 0.0072 - mae: 0.0637 - val_loss: 0.0038 - val_mae: 0.0469\n",
            "Epoch 3/25\n",
            "30/30 [==============================] - 0s 2ms/step - loss: 0.0052 - mae: 0.0543 - val_loss: 0.0036 - val_mae: 0.0461\n",
            "Epoch 4/25\n",
            "30/30 [==============================] - 0s 2ms/step - loss: 0.0040 - mae: 0.0451 - val_loss: 0.0029 - val_mae: 0.0402\n",
            "Epoch 5/25\n",
            "30/30 [==============================] - 0s 2ms/step - loss: 0.0036 - mae: 0.0433 - val_loss: 0.0026 - val_mae: 0.0380\n",
            "Epoch 6/25\n",
            "30/30 [==============================] - 0s 2ms/step - loss: 0.0030 - mae: 0.0408 - val_loss: 0.0028 - val_mae: 0.0419\n",
            "Epoch 7/25\n",
            "30/30 [==============================] - 0s 2ms/step - loss: 0.0018 - mae: 0.0315 - val_loss: 0.0016 - val_mae: 0.0301\n",
            "Epoch 8/25\n",
            "30/30 [==============================] - 0s 2ms/step - loss: 0.0013 - mae: 0.0265 - val_loss: 0.0014 - val_mae: 0.0250\n",
            "Epoch 9/25\n",
            "30/30 [==============================] - 0s 2ms/step - loss: 0.0012 - mae: 0.0271 - val_loss: 0.0018 - val_mae: 0.0311\n",
            "Epoch 10/25\n",
            "30/30 [==============================] - 0s 2ms/step - loss: 0.0011 - mae: 0.0253 - val_loss: 0.0015 - val_mae: 0.0321\n",
            "Epoch 11/25\n",
            "30/30 [==============================] - 0s 2ms/step - loss: 7.2135e-04 - mae: 0.0199 - val_loss: 0.0012 - val_mae: 0.0253\n",
            "Epoch 12/25\n",
            "30/30 [==============================] - 0s 2ms/step - loss: 5.2175e-04 - mae: 0.0178 - val_loss: 5.1882e-04 - val_mae: 0.0168\n",
            "Epoch 13/25\n",
            "30/30 [==============================] - 0s 2ms/step - loss: 3.4344e-04 - mae: 0.0144 - val_loss: 4.9357e-04 - val_mae: 0.0155\n",
            "Epoch 14/25\n",
            "30/30 [==============================] - 0s 2ms/step - loss: 2.4223e-04 - mae: 0.0119 - val_loss: 4.6244e-04 - val_mae: 0.0154\n",
            "Epoch 15/25\n",
            "30/30 [==============================] - 0s 2ms/step - loss: 1.8702e-04 - mae: 0.0107 - val_loss: 5.4346e-04 - val_mae: 0.0179\n",
            "Epoch 16/25\n",
            "30/30 [==============================] - 0s 2ms/step - loss: 2.7968e-04 - mae: 0.0132 - val_loss: 2.0943e-04 - val_mae: 0.0107\n",
            "Epoch 17/25\n",
            "30/30 [==============================] - 0s 2ms/step - loss: 2.2112e-04 - mae: 0.0117 - val_loss: 3.7701e-04 - val_mae: 0.0154\n",
            "Epoch 18/25\n",
            "30/30 [==============================] - 0s 2ms/step - loss: 1.5211e-04 - mae: 0.0098 - val_loss: 1.8725e-04 - val_mae: 0.0101\n",
            "Epoch 19/25\n",
            "30/30 [==============================] - 0s 2ms/step - loss: 1.7182e-04 - mae: 0.0103 - val_loss: 1.5481e-04 - val_mae: 0.0087\n",
            "Epoch 20/25\n",
            "30/30 [==============================] - 0s 2ms/step - loss: 1.0464e-04 - mae: 0.0079 - val_loss: 1.8645e-04 - val_mae: 0.0102\n",
            "Epoch 21/25\n",
            "30/30 [==============================] - 0s 2ms/step - loss: 6.8918e-05 - mae: 0.0065 - val_loss: 2.3253e-04 - val_mae: 0.0122\n",
            "Epoch 22/25\n",
            "30/30 [==============================] - 0s 2ms/step - loss: 7.2249e-05 - mae: 0.0067 - val_loss: 1.4950e-04 - val_mae: 0.0102\n",
            "Epoch 23/25\n",
            "30/30 [==============================] - 0s 2ms/step - loss: 5.0247e-05 - mae: 0.0056 - val_loss: 1.0726e-04 - val_mae: 0.0079\n",
            "Epoch 24/25\n",
            "30/30 [==============================] - 0s 2ms/step - loss: 5.9929e-05 - mae: 0.0062 - val_loss: 8.8899e-05 - val_mae: 0.0063\n",
            "Epoch 25/25\n",
            "30/30 [==============================] - 0s 2ms/step - loss: 4.2332e-05 - mae: 0.0049 - val_loss: 2.1373e-04 - val_mae: 0.0121\n"
          ],
          "name": "stdout"
        },
        {
          "output_type": "display_data",
          "data": {
            "image/png": "[encoded data removed]",
            "text/plain": [
              "<Figure size 864x648 with 1 Axes>"
            ]
          },
          "metadata": {
            "tags": [],
            "needs_background": "light"
          }
        },
        {
          "output_type": "stream",
          "text": [
            "5/5 - 0s - loss: 1.9643e-04 - mae: 0.0118\n",
            "Loss: 0.0001964262337423861 MAE: 0.011792297475039959\n"
          ],
          "name": "stdout"
        },
        {
          "output_type": "display_data",
          "data": {
            "image/png": "[encoded data removed]",
            "text/plain": [
              "<Figure size 648x648 with 1 Axes>"
            ]
          },
          "metadata": {
            "tags": [],
            "needs_background": "light"
          }
        }
      ]
    }
  ]
}